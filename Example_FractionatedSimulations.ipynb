{
 "cells": [
  {
   "cell_type": "code",
   "execution_count": 1,
   "id": "9fe2d053-cd1f-4e3b-8221-5ee6a7a798d6",
   "metadata": {},
   "outputs": [
    {
     "name": "stderr",
     "output_type": "stream",
     "text": [
      "/home/raghav/.local/lib/python3.10/site-packages/matplotlib/projections/__init__.py:63: UserWarning: Unable to import Axes3D. This may be due to multiple versions of Matplotlib being installed (e.g. as a system package and as a pip package). As a result, the 3D projection is not available.\n",
      "  warnings.warn(\"Unable to import Axes3D. This may be due to multiple versions of \"\n",
      "/home/raghav/.local/lib/python3.10/site-packages/p_winds/tools.py:24: UserWarning: Environment variable PWINDS_REFSPEC_DIR is not set.\n",
      "  warn(\"Environment variable PWINDS_REFSPEC_DIR is not set.\")\n"
     ]
    }
   ],
   "source": [
    "import sys\n",
    "sys.path.append('/home/raghav/sunbather/src/') #add your path to /sunbather/src/ here\n",
    "\n",
    "import tools\n",
    "import RT\n",
    "import construct_parker as cp\n",
    "import convergeT_parker as cT\n",
    "import os\n",
    "import matplotlib.pyplot as plt\n",
    "import numpy as np\n",
    "import pandas as pd\n",
    "from p_winds import parker as pw_parker"
   ]
  },
  {
   "cell_type": "markdown",
   "id": "f0403afe-d8a1-4397-a809-be4909715274",
   "metadata": {},
   "source": [
    "**Building fractionated atmosphere without using analytical estimates**"
   ]
  },
  {
   "cell_type": "code",
   "execution_count": 2,
   "id": "7050208a-91f4-41c7-878f-d977dc1f711c",
   "metadata": {},
   "outputs": [],
   "source": [
    "metalfrac2Rp_ab = tools.Abundances()\n",
    "metalfrac2Rp_ab.set_fractionationprofile(elements='all', exclude_elements=['H', 'He'], proftype='strline', vals=0.1 , frac_intervals=[1.0, 2.0], fraction=True) "
   ]
  },
  {
   "cell_type": "code",
   "execution_count": 3,
   "id": "11b7a82a-c8ec-467b-b018-42904ce17127",
   "metadata": {},
   "outputs": [
    {
     "data": {
      "image/png": "[encoded data removed]",
      "text/plain": [
       "<Figure size 640x480 with 1 Axes>"
      ]
     },
     "metadata": {},
     "output_type": "display_data"
    }
   ],
   "source": [
    "fig, ax = plt.subplots(1)\n",
    "ax.plot(metalfrac2Rp_ab.abundance_relH.index.values, metalfrac2Rp_ab.abundance_relH['N'], color='xkcd:maroon', label='Bulk $Z=1$, straight line $1-2R_P$')\n",
    "ax.legend()\n",
    "ax.set_xlim(1,4)\n",
    "plt.yticks([8.5e-5, 3e-5, 5e-5, 7e-5, 0.85e-5])\n",
    "plt.ylabel('$X_{N, relH}$')\n",
    "plt.xlabel('Radius [$R_P$]')\n",
    "plt.show()"
   ]
  },
  {
   "cell_type": "code",
   "execution_count": 4,
   "id": "d6d75f3b-622b-4c9f-8279-b6eae2af43f1",
   "metadata": {},
   "outputs": [],
   "source": [
    "hj = tools.Planet(\"hotJupiter\")\n",
    "T = 7000\n",
    "Mdot = 11.0\n",
    "pdir = 'metalfrac_2Rp'"
   ]
  },
  {
   "cell_type": "code",
   "execution_count": 5,
   "id": "3f893ea5-8627-4343-98c0-8b178b07da37",
   "metadata": {},
   "outputs": [
    {
     "name": "stdout",
     "output_type": "stream",
     "text": [
      "Parker profile already exists and overwrite = False: hotJupiter metalfrac_2Rp 11.000 7000\n",
      "Simulation already exists and overwrite = False: hotJupiter metalfrac_2Rp 11.000 7000\n"
     ]
    }
   ],
   "source": [
    "cp.save_cloudy_parker_profile(hj,Mdot,T,metalfrac2Rp_ab,pdir,overwrite=False)\n",
    "cT.run_s('hotJupiter',Mdot,T,1,1.1,'metalfrac_2Rp','real',overwrite=False,startT='nearby',pdir=pdir,abundances=metalfrac2Rp_ab,save_sp=tools.get_specieslist())"
   ]
  },
  {
   "cell_type": "markdown",
   "id": "5f32acb3-cedb-4e73-8cf1-7a191dc6b059",
   "metadata": {},
   "source": [
    "**Building a simulation using analytical estimates**"
   ]
  },
  {
   "cell_type": "markdown",
   "id": "41a53a20-8b9a-4200-9681-954054a09c1d",
   "metadata": {},
   "source": [
    "Running the necessary non-fractionated simulation first"
   ]
  },
  {
   "cell_type": "code",
   "execution_count": 6,
   "id": "3c4ce785-c94e-42a3-82ee-10af8cea3a96",
   "metadata": {},
   "outputs": [],
   "source": [
    "hj = tools.Planet(\"hotJupiter\")\n",
    "T = 7000\n",
    "Mdot = 11.0\n",
    "pdir = 'solar'\n",
    "solar_ab = tools.Abundances()"
   ]
  },
  {
   "cell_type": "code",
   "execution_count": 7,
   "id": "2dee0871-3b80-4382-a9ec-3bbc5273dc9d",
   "metadata": {},
   "outputs": [
    {
     "name": "stdout",
     "output_type": "stream",
     "text": [
      "Parker profile already exists and overwrite = False: hotJupiter solar 11.000 7000\n",
      "Simulation already exists and overwrite = False: hotJupiter solar 11.000 7000\n"
     ]
    }
   ],
   "source": [
    "cp.save_cloudy_parker_profile(hj,Mdot,T,solar_ab,pdir,overwrite=False)\n",
    "cT.run_s('hotJupiter',Mdot,T,1,1.1,'solar','real',overwrite=False,startT='nearby',pdir=pdir,abundances=solar_ab,save_sp=tools.get_specieslist())"
   ]
  },
  {
   "cell_type": "markdown",
   "id": "b5ea5ad6-3c48-4b94-8f90-2341c1bf1a15",
   "metadata": {},
   "source": [
    "Extracting escape factors using class Fractionation"
   ]
  },
  {
   "cell_type": "code",
   "execution_count": 8,
   "id": "bc43459b-2b20-42ed-8432-8f1cd3fc0dc7",
   "metadata": {},
   "outputs": [],
   "source": [
    "solar_Mdot11 = tools.Fractionation(\"/home/raghav/project_sb/sims/1D/hotJupiter/solar/parker_7000_11.000/converged\")"
   ]
  },
  {
   "cell_type": "code",
   "execution_count": 9,
   "id": "0bdd146b-09e5-4762-a60b-929c5c8aacc3",
   "metadata": {},
   "outputs": [],
   "source": [
    "Mdot11_fracflux_ratio_dict ={}\n",
    "for ele in solar_Mdot11.elements:\n",
    "    Mdot11_fracflux_ratio_dict[ele] = solar_Mdot11.fluxratio_estimate[ele] / solar_Mdot11.abundances.abundance_relH[ele].iloc[0]"
   ]
  },
  {
   "cell_type": "markdown",
   "id": "e20d7266-0d7b-4455-b1a1-0b03b615afeb",
   "metadata": {},
   "source": [
    "This dictionary contains the analytical escape factors of all elements"
   ]
  },
  {
   "cell_type": "code",
   "execution_count": 11,
   "id": "4603d343-4a05-4a77-9ee8-592a82034880",
   "metadata": {},
   "outputs": [
    {
     "data": {
      "text/plain": [
       "{'H': 1.0,\n",
       " 'He': 0.875546883992512,\n",
       " 'Li': 0.8254472706444558,\n",
       " 'Be': 0.7673934938162654,\n",
       " 'B': 0.7175485287683062,\n",
       " 'C': 0.6836535718972461,\n",
       " 'N': 0.6288073038144798,\n",
       " 'O': 0.5721352326756279,\n",
       " 'F': 0.4912112207587192,\n",
       " 'Ne': 0.45809594619800326,\n",
       " 'Na': 0.3810331765135289,\n",
       " 'Mg': 0.34457471263925665,\n",
       " 'Al': 0.27090660387212145,\n",
       " 'Si': 0.24031352982616372,\n",
       " 'P': 0.16081393330529747,\n",
       " 'S': 0.130741634622836,\n",
       " 'Cl': 0.0373159359140917,\n",
       " 'Ar': 0.0,\n",
       " 'K': 0.0,\n",
       " 'Ca': 0.0,\n",
       " 'Sc': 0.0,\n",
       " 'Ti': 0.0,\n",
       " 'V': 0.0,\n",
       " 'Cr': 0.0,\n",
       " 'Mn': 0.0,\n",
       " 'Fe': 0.0,\n",
       " 'Co': 0.0,\n",
       " 'Ni': 0.0,\n",
       " 'Cu': 0.0,\n",
       " 'Zn': 0.0}"
      ]
     },
     "execution_count": 11,
     "metadata": {},
     "output_type": "execute_result"
    }
   ],
   "source": [
    "Mdot11_fracflux_ratio_dict"
   ]
  },
  {
   "cell_type": "markdown",
   "id": "0fab610a-1815-4a82-8dff-df41ba88a886",
   "metadata": {},
   "source": [
    "You can now build a fractionated atmosphere using these escape factors, then choosing your own profile shape and intervals"
   ]
  },
  {
   "cell_type": "code",
   "execution_count": 14,
   "id": "5caa42b5-6398-440c-a7ab-05f0fdf5e475",
   "metadata": {},
   "outputs": [],
   "source": [
    "solar_Mdot11_fracestimate_ab = tools.Abundances()\n",
    "for ele in solar_Mdot11.elements[1:]:\n",
    "    solar_Mdot11_fracestimate_ab.set_fractionationprofile(elements=ele, proftype='powerlaw', frac_intervals=[1.05, 2.0], vals = Mdot11_fracflux_ratio_dict[ele], fraction=True)"
   ]
  },
  {
   "cell_type": "code",
   "execution_count": 15,
   "id": "02fb5fc5-52b7-4fc5-ae74-de6745431be3",
   "metadata": {},
   "outputs": [
    {
     "data": {
      "image/png": "[encoded data removed]",
      "text/plain": [
       "<Figure size 640x480 with 1 Axes>"
      ]
     },
     "metadata": {},
     "output_type": "display_data"
    }
   ],
   "source": [
    "fig, ax = plt.subplots(1)\n",
    "ax.plot(solar_Mdot11_fracestimate_ab.abundance_relH.index.values, solar_Mdot11_fracestimate_ab.abundance_relH['N'], color='xkcd:maroon', label='Fractionation from analytical estimate')\n",
    "ax.legend()\n",
    "ax.set_xlim(1,4)\n",
    "plt.ylabel('$X_{N, relH}$')\n",
    "plt.xlabel('Radius [$R_P$]')\n",
    "plt.show()"
   ]
  },
  {
   "cell_type": "code",
   "execution_count": 16,
   "id": "0bfac07f-8021-4f4c-9c18-08b5bd4c7037",
   "metadata": {},
   "outputs": [],
   "source": [
    "pdir = 'example_fracestimate'"
   ]
  },
  {
   "cell_type": "code",
   "execution_count": null,
   "id": "a575fc66-875f-46b5-962e-3eb4aef1c436",
   "metadata": {},
   "outputs": [
    {
     "name": "stdout",
     "output_type": "stream",
     "text": [
      "mu_bar converged: /home/raghav/project_sb/parker_profiles/hotJupiter/example_fracestimate/pprof_hotJupiter_T=7000_M=11.000.txt\n"
     ]
    }
   ],
   "source": [
    "cp.save_cloudy_parker_profile(hj,Mdot,T,solar_Mdot11_fracestimate_ab,pdir,overwrite=False)\n",
    "cT.run_s('hotJupiter',Mdot,T,1,1.1,'example_fracestimate','real',overwrite=False,startT='nearby',pdir=pdir,abundances=solar_Mdot11_fracestimate_ab,save_sp=tools.get_specieslist())"
   ]
  },
  {
   "cell_type": "code",
   "execution_count": null,
   "id": "e021df6b-ce46-4060-b841-10bbb207dfea",
   "metadata": {},
   "outputs": [],
   "source": []
  }
 ],
 "metadata": {
  "kernelspec": {
   "display_name": "Python 3 (ipykernel)",
   "language": "python",
   "name": "python3"
  },
  "language_info": {
   "codemirror_mode": {
    "name": "ipython",
    "version": 3
   },
   "file_extension": ".py",
   "mimetype": "text/x-python",
   "name": "python",
   "nbconvert_exporter": "python",
   "pygments_lexer": "ipython3",
   "version": "3.10.12"
  }
 },
 "nbformat": 4,
 "nbformat_minor": 5
}
