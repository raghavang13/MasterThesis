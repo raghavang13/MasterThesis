{
 "cells": [
  {
   "cell_type": "code",
   "execution_count": 1,
   "id": "cf8137b1-3dd5-4ea1-a992-c44c6a7714f1",
   "metadata": {},
   "outputs": [
    {
     "name": "stderr",
     "output_type": "stream",
     "text": [
      "/home/raghav/.local/lib/python3.10/site-packages/matplotlib/projections/__init__.py:63: UserWarning: Unable to import Axes3D. This may be due to multiple versions of Matplotlib being installed (e.g. as a system package and as a pip package). As a result, the 3D projection is not available.\n",
      "  warnings.warn(\"Unable to import Axes3D. This may be due to multiple versions of \"\n",
      "/home/raghav/.local/lib/python3.10/site-packages/p_winds/tools.py:24: UserWarning: Environment variable PWINDS_REFSPEC_DIR is not set.\n",
      "  warn(\"Environment variable PWINDS_REFSPEC_DIR is not set.\")\n"
     ]
    }
   ],
   "source": [
    "import sys\n",
    "sys.path.append('/home/raghav/sunbather/src/') #add your path to /sunbather/src/ here\n",
    "\n",
    "import tools\n",
    "import RT\n",
    "import construct_parker as cp\n",
    "import convergeT_parker as cT\n",
    "import os\n",
    "\n",
    "from scipy.interpolate import interp1d\n",
    "from scipy.integrate import trapezoid\n",
    "from scipy.integrate import cumulative_trapezoid\n",
    "from scipy.integrate import solve_ivp\n",
    "import matplotlib.pyplot as plt\n",
    "import numpy as np\n",
    "import pandas as pd\n",
    "from p_winds import parker as pw_parker"
   ]
  },
  {
   "cell_type": "markdown",
   "id": "64fa84be-6472-455c-b212-6e6da0141f22",
   "metadata": {},
   "source": [
    "**Running Necessary Simulations**"
   ]
  },
  {
   "cell_type": "code",
   "execution_count": 2,
   "id": "0fa354ae-73d0-4a96-acf0-303fd6581316",
   "metadata": {},
   "outputs": [],
   "source": [
    "hj = tools.Planet(\"hotJupiter\")\n",
    "T = 7000\n",
    "Mdot = 11.0\n",
    "pdir = 'solar'\n",
    "solar_ab = tools.Abundances()"
   ]
  },
  {
   "cell_type": "code",
   "execution_count": 3,
   "id": "66e8392a-e083-43d4-aa91-7ed0ea26f58d",
   "metadata": {},
   "outputs": [
    {
     "name": "stdout",
     "output_type": "stream",
     "text": [
      "Parker profile already exists and overwrite = False: hotJupiter solar 11.000 7000\n",
      "Simulation already exists and overwrite = False: hotJupiter solar 11.000 7000\n"
     ]
    }
   ],
   "source": [
    "cp.save_cloudy_parker_profile(hj,Mdot,T,solar_ab,pdir,overwrite=False)\n",
    "cT.run_s('hotJupiter',Mdot,T,1,1.1,'solar','real',overwrite=False,startT='nearby',pdir=pdir,abundances=solar_ab,save_sp=tools.get_specieslist())"
   ]
  },
  {
   "cell_type": "code",
   "execution_count": 4,
   "id": "c7142043-76c6-4595-aadf-07c2abd7d2e3",
   "metadata": {},
   "outputs": [],
   "source": [
    "pdir = 'metalfrac'\n",
    "metalfrac_ab = tools.Abundances()\n",
    "metalfrac_ab.set_fractionationprofile(elements='all', exclude_elements=['H', 'He'], proftype='strline', vals=0.1 , frac_intervals=[1.2, 3.0], fraction=True) "
   ]
  },
  {
   "cell_type": "code",
   "execution_count": 5,
   "id": "10730faa-7bf6-44b3-bcf5-0c8430d2d10e",
   "metadata": {},
   "outputs": [
    {
     "name": "stdout",
     "output_type": "stream",
     "text": [
      "Parker profile already exists and overwrite = False: hotJupiter metalfrac 11.000 7000\n",
      "Simulation already exists and overwrite = False: hotJupiter metalfrac 11.000 7000\n"
     ]
    }
   ],
   "source": [
    "cp.save_cloudy_parker_profile(hj,Mdot,T,metalfrac_ab,pdir,overwrite=False)\n",
    "cT.run_s('hotJupiter',Mdot,T,1,1.1,'metalfrac','real',overwrite=False,startT='nearby',pdir=pdir,abundances=metalfrac_ab,save_sp=tools.get_specieslist())"
   ]
  },
  {
   "cell_type": "code",
   "execution_count": 6,
   "id": "85b1dd95-3a47-4b45-8024-e9bfd2940f9c",
   "metadata": {},
   "outputs": [],
   "source": [
    "pdir = 'metalfrac_2Rp'\n",
    "metalfrac2Rp_ab = tools.Abundances()\n",
    "metalfrac2Rp_ab.set_fractionationprofile(elements='all', exclude_elements=['H', 'He'], proftype='strline', vals=0.1 , frac_intervals=[1.0, 2.0], fraction=True) "
   ]
  },
  {
   "cell_type": "code",
   "execution_count": 7,
   "id": "01802c09-3509-436d-99f0-2121c76b001e",
   "metadata": {},
   "outputs": [
    {
     "name": "stdout",
     "output_type": "stream",
     "text": [
      "Parker profile already exists and overwrite = False: hotJupiter metalfrac_2Rp 11.000 7000\n",
      "Simulation already exists and overwrite = False: hotJupiter metalfrac_2Rp 11.000 7000\n"
     ]
    }
   ],
   "source": [
    "cp.save_cloudy_parker_profile(hj,Mdot,T,metalfrac2Rp_ab,pdir,overwrite=False)\n",
    "cT.run_s('hotJupiter',Mdot,T,1,1.1,'metalfrac_2Rp','real',overwrite=False,startT='nearby',pdir=pdir,abundances=metalfrac2Rp_ab,save_sp=tools.get_specieslist())"
   ]
  },
  {
   "cell_type": "code",
   "execution_count": 8,
   "id": "afa96b29-5465-455f-89b2-e72956a87b4e",
   "metadata": {},
   "outputs": [],
   "source": [
    "pdir = 'z0.3'\n",
    "z0point3_ab = tools.Abundances()\n",
    "z0point3_ab.set_metallicity(0.3)"
   ]
  },
  {
   "cell_type": "code",
   "execution_count": 9,
   "id": "b08ad2e4-80a5-4f4d-affe-10fbe2f27ab4",
   "metadata": {},
   "outputs": [
    {
     "name": "stdout",
     "output_type": "stream",
     "text": [
      "Parker profile already exists and overwrite = False: hotJupiter z0.3 11.000 7000\n",
      "Simulation already exists and overwrite = False: hotJupiter z0.3 11.000 7000\n"
     ]
    }
   ],
   "source": [
    "cp.save_cloudy_parker_profile(hj,Mdot,T,z0point3_ab,pdir,overwrite=False)\n",
    "cT.run_s('hotJupiter',Mdot,T,1,1.1,'z0.3','real',overwrite=False,startT='nearby',pdir=pdir,abundances=z0point3_ab,save_sp=tools.get_specieslist())"
   ]
  },
  {
   "cell_type": "code",
   "execution_count": 10,
   "id": "30caf8fe-9156-4f96-b3dd-cc6c27564d87",
   "metadata": {},
   "outputs": [],
   "source": [
    "pdir = 'z0.6'\n",
    "z0point6_ab = tools.Abundances()\n",
    "z0point6_ab.set_metallicity(0.6)\n"
   ]
  },
  {
   "cell_type": "code",
   "execution_count": 11,
   "id": "92af030a-a7e5-4e81-81f1-61d875a94f46",
   "metadata": {},
   "outputs": [
    {
     "name": "stdout",
     "output_type": "stream",
     "text": [
      "Parker profile already exists and overwrite = False: hotJupiter z0.6 11.000 7000\n",
      "Simulation already exists and overwrite = False: hotJupiter z0.6 11.000 7000\n"
     ]
    }
   ],
   "source": [
    "cp.save_cloudy_parker_profile(hj,Mdot,T,z0point6_ab,pdir,overwrite=False)\n",
    "cT.run_s('hotJupiter',Mdot,T,1,1.1,'z0.6','real',overwrite=False,startT='nearby',pdir=pdir,abundances=metalfrac2Rp_ab,save_sp=tools.get_specieslist())"
   ]
  },
  {
   "cell_type": "markdown",
   "id": "94ac616e-e31f-4623-8c59-447ed0bfaa15",
   "metadata": {},
   "source": [
    "**Calculating and plotting transit depth ratios**"
   ]
  },
  {
   "cell_type": "code",
   "execution_count": 12,
   "id": "59d2cc76-e34a-4d06-97ca-601c9a830957",
   "metadata": {},
   "outputs": [],
   "source": [
    "def calc_depthratio(spec1,spec2):\n",
    "\n",
    "    normspec1 = spec1 / spec1[0]\n",
    "    normspec2 = spec2 / spec2[0]\n",
    "\n",
    "    return np.min(normspec2) / np.min(normspec1)"
   ]
  },
  {
   "cell_type": "code",
   "execution_count": 13,
   "id": "fd7a5ad2-8b70-4274-8991-c6bca8068af7",
   "metadata": {},
   "outputs": [],
   "source": [
    "def get_line_ratios(sim_list, wavs_list, species_list):\n",
    "\n",
    "    ratios_list = [[] for _ in range(len(sim_list))] #Each list in this has the line ratios for a simulation\n",
    "    ts_list = [[] for _ in range(len(sim_list))] #Each list in this has the transit spectra for a simulation\n",
    "    #Assuming reference spectrum is first one\n",
    "    for i in range(len(wavs_list)):\n",
    "        for j in range(len(sim_list)):\n",
    "            ts, _, _ = RT.FinFout(sim_list[j], wavs_list[i], species_list[i], width_fac=20.)\n",
    "            ts_list[j].append(ts)\n",
    "\n",
    "    ref_spectra = ts_list[0]\n",
    "    for i in range(len(wavs_list)):\n",
    "        for j in range(len(sim_list)):\n",
    "            depth_ratio = calc_depthratio(ts_list[j][i], ref_spectra[i])\n",
    "            ratios_list[j].append(depth_ratio)\n",
    "        \n",
    "    return ratios_list"
   ]
  },
  {
   "cell_type": "code",
   "execution_count": 14,
   "id": "fd708a63-c8b1-4837-b119-789530db2db5",
   "metadata": {},
   "outputs": [],
   "source": [
    "z1 = tools.Sim(\"/home/raghav/project_sb/sims/1D/hotJupiter/solar/parker_7000_11.000/converged\")\n",
    "metalfrac_1point2_3Rp = tools.Sim(\"/home/raghav/project_sb/sims/1D/hotJupiter/metalfrac/parker_7000_11.000/converged\")\n",
    "metalfrac_2Rp = tools.Sim(\"/home/raghav/project_sb/sims/1D/hotJupiter/metalfrac_2Rp/parker_7000_11.000/converged\")\n",
    "z0point3 = tools.Sim(\"/home/raghav/project_sb/sims/1D/hotJupiter/z0.3/parker_7000_11.000/converged\")\n",
    "z0point6 = tools.Sim(\"/home/raghav/project_sb/sims/1D/hotJupiter/z0.6/parker_7000_11.000/converged\")\n",
    "z0point58 = tools.Sim(\"/home/raghav/project_sb/sims/1D/hotJupiter/z0.23/parker_7000_11.000/converged\")"
   ]
  },
  {
   "cell_type": "code",
   "execution_count": 15,
   "id": "a6a1ad77-fa6d-46a6-a6f6-59bee6d0ccb1",
   "metadata": {},
   "outputs": [],
   "source": [
    "wavs_N_1 = RT.constantR_wavs(1133, 1136, 100000) #1135\n",
    "wavs_N_2 = RT.constantR_wavs(1198, 1202, 100000) #1199.5\n",
    "wavs_N_3 = RT.constantR_wavs(1492, 1496, 100000) #1492.6\n",
    "wavs_N2_1 = RT.constantR_wavs(1083, 1087, 100000) #1085.7\n",
    "wavs_N3_1 = RT.constantR_wavs(989, 993, 100000) #991.6\n",
    "wavs_N5_1 = RT.constantR_wavs(1238, 1241, 100000) #1238.8"
   ]
  },
  {
   "cell_type": "code",
   "execution_count": 16,
   "id": "eebec5bb-9b36-4a6c-b8a2-1ed48b7fe5e1",
   "metadata": {},
   "outputs": [],
   "source": [
    "sims_list = [z1, metalfrac_1point2_3Rp, metalfrac_2Rp, z0point3, z0point6]\n",
    "wavs_list = [wavs_N_1, wavs_N_2, wavs_N_3, wavs_N2_1, wavs_N3_1, wavs_N5_1]\n",
    "species_list = ['N', 'N', 'N', 'N+', 'N+2', 'N+4']"
   ]
  },
  {
   "cell_type": "code",
   "execution_count": 17,
   "id": "ce362eba-0132-4624-8415-e32414bf4b26",
   "metadata": {},
   "outputs": [],
   "source": [
    "N_lineratios_highres = get_line_ratios(sims_list, wavs_list, species_list)"
   ]
  },
  {
   "cell_type": "code",
   "execution_count": 18,
   "id": "35045e63-84a2-4000-8aed-b511a8365c2b",
   "metadata": {},
   "outputs": [
    {
     "data": {
      "image/png": "[encoded data removed]",
      "text/plain": [
       "<Figure size 640x480 with 1 Axes>"
      ]
     },
     "metadata": {},
     "output_type": "display_data"
    }
   ],
   "source": [
    "x_ax = np.arange(1, len(species_list)+1, 1)\n",
    "fig, ax = plt.subplots(1)\n",
    "ax.scatter(x_ax, N_lineratios_highres[3], color='xkcd:aqua green', marker='o', zorder=4, s=50, label='$Z=0.3$, non-fractionated')\n",
    "ax.scatter(x_ax, N_lineratios_highres[4], color='xkcd:easter purple', marker='^', zorder=3, s=50, label='$Z=0.6$, non-fractionated')\n",
    "ax.scatter(x_ax, N_lineratios_highres[1], color='xkcd:strawberry', marker='D',zorder=2, s=50, label='Bulk $Z=1$, \\nfractionated $1.2-3R_P$')\n",
    "ax.scatter(x_ax, N_lineratios_highres[2], color='xkcd:maroon', marker='s', zorder=1, s=50, label='Bulk $Z=1$, \\nfractionated $1-2R_P$')\n",
    "ax.set_xticks(x_ax)\n",
    "ax.set_xticklabels(['N I\\n(1135)', 'N I \\n(1199.5)', 'N I \\n(1492.6)', 'N II \\n(1085.7)', 'N III \\n(991.6)', 'N V \\n(1238.8)'], fontsize=10)\n",
    "ax.set_ylabel('Transit depth ratio', size=12)\n",
    "ax.set_xlabel('Nitrogen spectral line', size=12)\n",
    "plt.yticks(size=11)\n",
    "font = {'size':9}\n",
    "plt.title('Transit depth ratios of different nitrogen lines with respect to solar abundance lines', fontdict=font)\n",
    "plt.grid(True)\n",
    "plt.legend(prop={'size':11},facecolor=(1,1,1,1),framealpha=1, loc='lower left')\n",
    "#plt.savefig('Example_NitrogenTDRs.png', dpi=400, bbox_inches='tight')\n",
    "plt.show()"
   ]
  },
  {
   "cell_type": "code",
   "execution_count": null,
   "id": "787c6a52-8782-4e86-b303-8cd7b6d36b20",
   "metadata": {},
   "outputs": [],
   "source": []
  }
 ],
 "metadata": {
  "kernelspec": {
   "display_name": "Python 3 (ipykernel)",
   "language": "python",
   "name": "python3"
  },
  "language_info": {
   "codemirror_mode": {
    "name": "ipython",
    "version": 3
   },
   "file_extension": ".py",
   "mimetype": "text/x-python",
   "name": "python",
   "nbconvert_exporter": "python",
   "pygments_lexer": "ipython3",
   "version": "3.10.12"
  }
 },
 "nbformat": 4,
 "nbformat_minor": 5
}
